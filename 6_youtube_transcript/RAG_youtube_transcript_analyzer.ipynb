{
 "cells": [
  {
   "cell_type": "markdown",
   "id": "ad095a86",
   "metadata": {},
   "source": [
    "## Install libraries"
   ]
  },
  {
   "cell_type": "code",
   "execution_count": 1,
   "id": "04b90449",
   "metadata": {},
   "outputs": [
    {
     "name": "stdout",
     "output_type": "stream",
     "text": [
      "Collecting yt_dlp\n",
      "  Using cached yt_dlp-2025.9.26-py3-none-any.whl.metadata (175 kB)\n",
      "Using cached yt_dlp-2025.9.26-py3-none-any.whl (3.2 MB)\n",
      "Installing collected packages: yt_dlp\n",
      "Successfully installed yt_dlp-2025.9.26\n"
     ]
    }
   ],
   "source": [
    "%pip install yt_dlp"
   ]
  },
  {
   "cell_type": "markdown",
   "id": "6e877fad",
   "metadata": {},
   "source": [
    "## Step 1a - Indexing (Document Ingestion)"
   ]
  },
  {
   "cell_type": "markdown",
   "id": "73888762",
   "metadata": {},
   "source": [
    "## Downloading the transcript through the subtitles using the cookies"
   ]
  },
  {
   "cell_type": "markdown",
   "id": "4c662496",
   "metadata": {},
   "source": []
  },
  {
   "cell_type": "code",
   "execution_count": 27,
   "id": "153849e2",
   "metadata": {},
   "outputs": [],
   "source": [
    "import yt_dlp\n",
    "import os\n",
    "import re\n",
    "\n",
    "def download_single_video_subtitles_with_cookies(video_url, cookie_file_path, lang='en'):\n",
    "    \"\"\"\n",
    "    Downloads all subtitles from a single YouTube video using a cookies.txt file.\n",
    "    Saves them as .vtt files in the current folder.\n",
    "    \"\"\"\n",
    "    current_directory = os.getcwd()\n",
    "    print(f\"Saving subtitles to: {current_directory}\")\n",
    "    print(f\"Using cookie file: {cookie_file_path}\")\n",
    "\n",
    "    if not os.path.exists(cookie_file_path):\n",
    "        print(f\"❌ ERROR: Cookie file not found at '{cookie_file_path}'\")\n",
    "        return\n",
    "\n",
    "    ydl_opts = {\n",
    "        'skip_download': True,              # don’t download video\n",
    "        'writeautomaticsub': True,          # fetch auto-generated subs if needed\n",
    "        'subtitleslangs': [lang],           # target language\n",
    "        'subtitlesformat': 'vtt',           # save as .vtt\n",
    "        'ignoreerrors': True,\n",
    "        'cookies': cookie_file_path,\n",
    "        'outtmpl': '%(title)s.%(ext)s',  # Modified outtmpl for single video\n",
    "        'quiet': False,\n",
    "    }\n",
    "\n",
    "    try:\n",
    "        with yt_dlp.YoutubeDL(ydl_opts) as ydl:\n",
    "            ydl.download([video_url]) # Pass single video URL as a list\n",
    "        print(f\"\\n✅ Finished downloading subtitles for the video!\")\n",
    "    except Exception as e:\n",
    "        print(f\"❌ An error occurred: {e}\")\n",
    "\n"
   ]
  },
  {
   "cell_type": "code",
   "execution_count": 28,
   "id": "a62aac4b",
   "metadata": {},
   "outputs": [
    {
     "name": "stdout",
     "output_type": "stream",
     "text": [
      "Saving subtitles to: /media/rgukt/data/RAG/6_youtube_transcript\n",
      "Using cookie file: cookies.txt\n",
      "[youtube] Extracting URL: https://youtu.be/fNk_zzaMoSs?si=_MyHrPQQdT5qFU-E\n",
      "[youtube] fNk_zzaMoSs: Downloading webpage\n",
      "[youtube] fNk_zzaMoSs: Downloading tv client config\n",
      "[youtube] fNk_zzaMoSs: Downloading tv player API JSON\n",
      "[youtube] fNk_zzaMoSs: Downloading web safari player API JSON\n",
      "[youtube] fNk_zzaMoSs: Downloading m3u8 information\n",
      "[info] fNk_zzaMoSs: Downloading subtitles: en\n",
      "[info] fNk_zzaMoSs: Downloading 1 format(s): 399+251-9\n",
      "[info] Writing video subtitles to: Vectors ｜ Chapter 1, Essence of linear algebra.en.vtt\n"
     ]
    },
    {
     "name": "stderr",
     "output_type": "stream",
     "text": [
      "WARNING: The extractor specified to use impersonation for this download, but no impersonate target is available. If you encounter errors, then see  https://github.com/yt-dlp/yt-dlp#impersonation  for information on installing the required dependencies\n"
     ]
    },
    {
     "name": "stdout",
     "output_type": "stream",
     "text": [
      "[download] Destination: Vectors ｜ Chapter 1, Essence of linear algebra.en.vtt\n",
      "[download] 100% of   89.51KiB in 00:00:00 at 420.31KiB/s\n",
      "\n",
      "✅ Finished downloading subtitles for the video!\n"
     ]
    }
   ],
   "source": [
    "# --- Example usage ---\n",
    "# Replace with the actual video URL you want to download subtitles for\n",
    "my_video_url = \"https://youtu.be/fNk_zzaMoSs?si=_MyHrPQQdT5qFU-E\"\n",
    "my_cookie_file = \"cookies.txt\"\n",
    "\n",
    "download_single_video_subtitles_with_cookies(my_video_url, my_cookie_file)"
   ]
  },
  {
   "cell_type": "markdown",
   "id": "604d5a68",
   "metadata": {},
   "source": [
    "## Cleaning the text"
   ]
  },
  {
   "cell_type": "code",
   "execution_count": 29,
   "id": "69908df2",
   "metadata": {},
   "outputs": [
    {
     "name": "stdout",
     "output_type": "stream",
     "text": [
      "\n",
      "--- Cleaned Transcript for: Vectors ｜ Chapter 1, Essence of linear algebra.en.vtt ---\n",
      "\n",
      "[Music] the fundamental root of itall building block for linear algebra is the vector so it's worth making sure that we're all on the same page about what exactly a vector is you see broadly speaking there are three distinct but related ideas about vectors which I'll call the physics student perspective the computer science student perspective and the mathematicians perspective the physics student perspective is that vectors are arrows pointing in space what defines a given Vector is its length and the direction its pointing but as long as those two facts are the same you can move it all around and it's still the same Vector vectors that live in the flat plane are two-dimensional and those sitting in broader space that you and I live in are three-dimensional the computer science perspective is that vectors are ordered lists of numbers for example let's say you were doing some analytics about house prices and the only features you cared about were square footage and price you might model each house with a pair of numbers the first indicating square footage and the second indicating price notice the order matters here in the lingo you'd be modeling houses as two-dimensional vectors where in this context Vector is pretty much just a fancy word for list and what makes it two-dimensional is the fact that the length of that list is two the mathematician on the other hand seeks to generalize both these views basically saying that a vector can be anything where there's a sensible notion of adding two vectors and multiplying a vector by a number operations that I'll talk about later on in this video the details of this view are rather abstract and I actually think it's healthy to ignore it until the last video of this series favoring a more concrete setting in the interim but the reason I bring it up here is that it hints at the fact that the ideas of vector addition and multiplication by numbers will play an important role throughout linear algebra but before I talk about those operations let's just settle in on a specific thought to have in mind when I say the word Vector given the geometric Focus that I'm shooting for here whenever I introduce a new topic involving vectors I want you to First think about an arrow and specifically think about that Arrow inside a coordinate system like the XY plane with its tail sitting at the origin this is a little bit different from the physics student perspective where vectors can freely sit anywhere they want in space in linear algebra it's almost always the case that your vector will be rooted at the order then once you understand A New Concept in the context of arrows in space we'll translate it over to the list of numbers point of view which we can do by considering the coordinates of the vector now while I'm sure that many of you are already familiar with this coordinate system it's worth walking through explicitly since this is where all of the important back and forth happens between the two perspectives of linear algebra focusing our attention on two dimensions for the moment you have a horizontal line called the x-axis and a vertical line called the y-axis the place where they intersect is called the origin which you should think of as the center of space and the root of all vectors after choosing an arbitrary length to represent one you make tick marks on each axis to represent this distance when I want to convey the idea of 2D space as a whole which you'll see comes up a lot in these videos I'll extend these tick marks to make grid lines but right now they'll actually get a little bit in the way the coordinates of a vector is a pair of numbers that basically gives instructions for how to get from the tail of that Vector at the origin to its tip the first number tells you how far to walk along the x-axis positive numbers indicating rightward motion negative numbers indicating leftward motion and the second number tells you how far to walk parallel to the y- AIS after that positive numbers indicating upward motion and negative numbers indicating downward motion to distinguish vectors from points the convention is to write this pair of numbers vertically with square brackets around them every pair of numbers gives you one and only one vector and every Vector is associated with one and only one pair of numbers what about in three dimensions well you add a third axis called the z-axis which is perpendicular to both the X and Y AIS and in this case each Vector is associated with an ordered triplet of numbers the first tells you how far to move along the x-axis the second tells you how far to move parallel to the y- AIS and the third one tells you how far to then move parallel to this new Z axis every triplet of numbers gives you one unique Vector in space and every Vector in space gives you exactly one triplet of numbers all right so back to vector addition and multiplication by numbers after all every topic in linear algebra is going to center around these two operations luckily each one's pretty straightforward to Define let's say we have two vectors one pointing up and a little to the right and the other one pointing right and down a bit to add these two vectors move the second one so that its tail sits at the tip of the first one then if you draw a new Vector from the tail of the first one to where the tip of the second one now sits that new Vector is their Su this definition of addition by the way is pretty much the only time in linear algebra where we let vectors stray away from the origin now why is this a reasonable thing to do why this definition of addition and not some other one well the way I like to think about it is that each Vector represents a certain movement a step with a certain distance and direction in space if you take a step along the first Vector then take a step in the direction and distance described by the second Vector the overall effect is just the same as if you moved along the sum of those two vectors to start with you could think about this as an extension of how we think about adding numbers on a number line one way that we teach kids to think about this say with 2 + 5 is to think of moving two steps to the right followed by another five steps to the right the overall effect is the same as if you just took seven steps to the right in fact let's see how vector addition looks numerically the first Vector here has coordinates one 2 and the second one has coordinates 31 when you take the vector sum using this tip toil method you can think of a four-step path from the origin to the tip of the second Vector walk one to the right then two up then three to the right then one down reorganizing these steps so that you first do all of the right word motion then do all the vertical motion you can read it as saying first move 1 + 3 to the right then move 2 - 1 up so the new Vector has coordinates 1 + 3 and 2 +1 in general vector addition in this list of numbers conception looks like matching up their terms and adding each one together the other fundamental Vector operation is multiplication by a number now this is best understood just by looking at a few examples if you take the number two and multiply it by a given Vector it means you stretch out that Vector so that it's two times as long as when you started if you multiply that vector by say 1/3 it means you squish it down so that it's 1/3 the original length when you multiply it by a negative number like - 1.8 then the vector first gets flipped around then stretched out by that factor of 1.8 this process of stretching or squishing or sometimes vering the direction of a vector is called scaling and whenever you catch a number like 2 or 1/3 or 1.8 acting like this scaling some Vector you call it a scaler in fact throughout linear algebra one of the main things that numbers do is scale vectors so it's common to use the word scaler pretty much interchangeably with the word number numerically stretching out a vector by a factor of say two corresponds with multiplying each of its components by that factor two so in the conception of vectors as lists of numbers multiplying a given vector by a scaler means multiplying each one of those components by that scalar you'll see in the following videos what I mean when I say that linear algebra topics tend to revolve around these two fundamental operations vector addition and scalar multiplication and I'll talk more in the last video about how and why the mathematician thinks only about these operations independent and abstracted away from however you choose to represent vectors in truth it doesn't matter whether you think about vectors as fundamentally being arrows in space like I'm suggesting you do that happen to have a nice numerical representation or fundamentally as lists of numbers that happen to have a nice geometric interpretation the usefulness of linear algebra has less to do with either one of these views than it does with the ability to translate back and forth between them it gives the data analyst a nice way to conceptualize many lists of numbers in a visual way which can seriously clarify patterns in data and give a global view of what certain operations do do and on the flip side it gives people like physicists and computer Graphics programmers a language to describe space and the manipulation of space using numbers that can be crunched and run through a computer when I do mathy animations for example I start by thinking about what's actually going on in space and then get the computer to represent things numerically thereby figuring out where to place the pixels on the screen and doing that usually relies on a lot of linear algebra understanding so there are your vector Basics and in the next video video I'll start getting into some pretty neat Concepts surrounding vectors like span bases and linear dependence see you then [Music]\n",
      "✅ Clean transcript saved to: Vectors ｜ Chapter 1, Essence of linear algebra.en.clean.txt\n"
     ]
    }
   ],
   "source": [
    "import os\n",
    "import re\n",
    "\n",
    "def clean_vtt(vtt_file):\n",
    "    \"\"\"\n",
    "    Reads a .vtt file and removes:\n",
    "    - timestamps like <00:00:01.234>\n",
    "    - <c> tags\n",
    "    - align:start... metadata\n",
    "    - empty lines\n",
    "    Returns clean plain text.\n",
    "    \"\"\"\n",
    "    with open(vtt_file, 'r', encoding='utf-8') as f:\n",
    "        text = f.read()\n",
    "\n",
    "    # Remove WEBVTT header and metadata lines\n",
    "    text = re.sub(r'WEBVTT.*\\n', '', text)\n",
    "    text = re.sub(r'(Kind:.*|Language:.*|align:start.*|position:.*)', '', text, flags=re.IGNORECASE)\n",
    "\n",
    "    # Remove timestamps\n",
    "    text = re.sub(r'<\\d{2}:\\d{2}:\\d{2}\\.\\d{3}>', '', text)  # <00:00:01.234>\n",
    "    text = re.sub(r'\\d{2}:\\d{2}:\\d{2}\\.\\d{3} --> \\d{2}:\\d{2}:\\d{2}\\.\\d{3}', '', text)\n",
    "\n",
    "    # Remove <c> tags\n",
    "    text = re.sub(r'</?c>', '', text)\n",
    "\n",
    "    # Remove extra blank lines\n",
    "    text = re.sub(r'\\n+', '\\n', text)\n",
    "\n",
    "    # Remove repeated lines if necessary\n",
    "    lines = text.split('\\n')\n",
    "    cleaned_lines = []\n",
    "    for line in lines:\n",
    "        line = line.strip()\n",
    "        if line and (not cleaned_lines or line != cleaned_lines[-1]):\n",
    "            cleaned_lines.append(line)\n",
    "\n",
    "    return ' '.join(cleaned_lines)\n",
    "\n",
    "# --- Usage for a single file ---\n",
    "vtt_file_path = \"Vectors ｜ Chapter 1, Essence of linear algebra.en.vtt\"\n",
    "if os.path.exists(vtt_file_path):\n",
    "    clean_text = clean_vtt(vtt_file_path)\n",
    "\n",
    "    print(f\"\\n--- Cleaned Transcript for: {os.path.basename(vtt_file_path)} ---\\n\")\n",
    "    print(clean_text)\n",
    "\n",
    "    # Optionally, save the cleaned text to a new file\n",
    "    txt_path = vtt_file_path.replace('.vtt', '.clean.txt')\n",
    "    with open(txt_path, 'w', encoding='utf-8') as f:\n",
    "        f.write(clean_text)\n",
    "    print(f\"✅ Clean transcript saved to: {txt_path}\")\n",
    "else:\n",
    "    print(f\"❌ ERROR: File not found at '{vtt_file_path}'\")"
   ]
  },
  {
   "cell_type": "code",
   "execution_count": 30,
   "id": "c0c0d44c",
   "metadata": {},
   "outputs": [
    {
     "name": "stdout",
     "output_type": "stream",
     "text": [
      "9879\n"
     ]
    }
   ],
   "source": [
    "print(len(clean_text))"
   ]
  },
  {
   "cell_type": "code",
   "execution_count": null,
   "id": "64df063e",
   "metadata": {},
   "outputs": [],
   "source": []
  },
  {
   "cell_type": "code",
   "execution_count": 32,
   "id": "b12a9db8",
   "metadata": {},
   "outputs": [],
   "source": [
    "from langchain.text_splitter import RecursiveCharacterTextSplitter\n",
    "from langchain_google_genai import GoogleGenerativeAIEmbeddings,ChatGoogleGenerativeAI\n",
    "from langchain_community.vectorstores import FAISS\n",
    "from langchain.prompts import PromptTemplate"
   ]
  },
  {
   "cell_type": "markdown",
   "id": "3ca8b0b8",
   "metadata": {},
   "source": [
    "## Step 1b - Indexing (Text Splitting)"
   ]
  },
  {
   "cell_type": "code",
   "execution_count": 33,
   "id": "be859d1e",
   "metadata": {},
   "outputs": [],
   "source": [
    "splitter = RecursiveCharacterTextSplitter(\n",
    "    chunk_size = 1000,\n",
    "    chunk_overlap = 200\n",
    ")"
   ]
  },
  {
   "cell_type": "code",
   "execution_count": 34,
   "id": "2507671c",
   "metadata": {},
   "outputs": [],
   "source": [
    "chunks = splitter.create_documents([clean_text])"
   ]
  },
  {
   "cell_type": "code",
   "execution_count": 35,
   "id": "087b1c29",
   "metadata": {},
   "outputs": [
    {
     "data": {
      "text/plain": [
       "13"
      ]
     },
     "execution_count": 35,
     "metadata": {},
     "output_type": "execute_result"
    }
   ],
   "source": [
    "len(chunks)"
   ]
  },
  {
   "cell_type": "code",
   "execution_count": 36,
   "id": "8f38543b",
   "metadata": {},
   "outputs": [
    {
     "data": {
      "text/plain": [
       "Document(metadata={}, page_content=\"[Music] the fundamental root of itall building block for linear algebra is the vector so it's worth making sure that we're all on the same page about what exactly a vector is you see broadly speaking there are three distinct but related ideas about vectors which I'll call the physics student perspective the computer science student perspective and the mathematicians perspective the physics student perspective is that vectors are arrows pointing in space what defines a given Vector is its length and the direction its pointing but as long as those two facts are the same you can move it all around and it's still the same Vector vectors that live in the flat plane are two-dimensional and those sitting in broader space that you and I live in are three-dimensional the computer science perspective is that vectors are ordered lists of numbers for example let's say you were doing some analytics about house prices and the only features you cared about were square footage and price you might\")"
      ]
     },
     "execution_count": 36,
     "metadata": {},
     "output_type": "execute_result"
    }
   ],
   "source": [
    "chunks[0]"
   ]
  },
  {
   "cell_type": "markdown",
   "id": "278545cc",
   "metadata": {},
   "source": [
    "## Step 1c & 1d - Indexing (Embedding Generation and Storing in Vector Store)"
   ]
  },
  {
   "cell_type": "code",
   "execution_count": null,
   "id": "1c417da3",
   "metadata": {},
   "outputs": [],
   "source": []
  },
  {
   "cell_type": "code",
   "execution_count": 37,
   "id": "fc0fc748",
   "metadata": {},
   "outputs": [
    {
     "data": {
      "text/plain": [
       "True"
      ]
     },
     "execution_count": 37,
     "metadata": {},
     "output_type": "execute_result"
    }
   ],
   "source": [
    "from dotenv import load_dotenv\n",
    "load_dotenv()"
   ]
  },
  {
   "cell_type": "code",
   "execution_count": 38,
   "id": "830683a3",
   "metadata": {},
   "outputs": [
    {
     "name": "stderr",
     "output_type": "stream",
     "text": [
      "E0000 00:00:1760161637.827117   14787 alts_credentials.cc:93] ALTS creds ignored. Not running on GCP and untrusted ALTS is not enabled.\n"
     ]
    }
   ],
   "source": [
    "embeddings= GoogleGenerativeAIEmbeddings(\n",
    "        model=\"models/gemini-embedding-001\",\n",
    "        task_type=\"retrieval_query\"  # Specify the task type\n",
    "    )"
   ]
  },
  {
   "cell_type": "code",
   "execution_count": 39,
   "id": "ee097ddb",
   "metadata": {},
   "outputs": [],
   "source": [
    "vector_store = FAISS.from_documents(chunks,embedding=embeddings)"
   ]
  },
  {
   "cell_type": "code",
   "execution_count": 40,
   "id": "b9b44914",
   "metadata": {},
   "outputs": [
    {
     "data": {
      "text/plain": [
       "{0: 'd7e396ac-ca75-49fc-b755-88c21703f1f9',\n",
       " 1: '03cc5ea4-c748-490c-9f29-829fc9e93d83',\n",
       " 2: 'b8f82a5b-c659-4eee-8860-388260e4e991',\n",
       " 3: '76374d32-ee6c-480a-a1f2-b83c2ef4d261',\n",
       " 4: 'f4d8fd01-1ccf-44f9-95b1-14e6bc0c811f',\n",
       " 5: 'a0132f5e-65e6-4ffe-82c6-11777a0ca9e3',\n",
       " 6: '66ae25a5-96f2-4cc3-810b-999b137da810',\n",
       " 7: 'b97f969b-0675-4dcd-981d-0a23edd199aa',\n",
       " 8: 'bdd497a9-42fe-4bf7-b6e2-a6728e45fe18',\n",
       " 9: 'e51c4ddd-4478-46e9-ad1a-c5d65f8179ff',\n",
       " 10: '254f6295-dab3-4f7c-b678-1e90b194d507',\n",
       " 11: '58c9f7f7-5ede-45a5-925c-b14f2c3a925a',\n",
       " 12: 'a3b38f72-9f07-475b-8114-baa7e37ebfe2'}"
      ]
     },
     "execution_count": 40,
     "metadata": {},
     "output_type": "execute_result"
    }
   ],
   "source": [
    "vector_store.index_to_docstore_id"
   ]
  },
  {
   "cell_type": "code",
   "execution_count": 48,
   "id": "1f65d19d",
   "metadata": {},
   "outputs": [],
   "source": [
    "id1 = vector_store.get_by_ids(['d7e396ac-ca75-49fc-b755-88c21703f1f9'])"
   ]
  },
  {
   "cell_type": "code",
   "execution_count": 53,
   "id": "a82f6170",
   "metadata": {},
   "outputs": [
    {
     "data": {
      "text/plain": [
       "995"
      ]
     },
     "execution_count": 53,
     "metadata": {},
     "output_type": "execute_result"
    }
   ],
   "source": [
    "len(id1[0].page_content)"
   ]
  },
  {
   "cell_type": "code",
   "execution_count": 54,
   "id": "8b6d827b",
   "metadata": {},
   "outputs": [
    {
     "name": "stdout",
     "output_type": "stream",
     "text": [
      "[Music] the fundamental root of itall building block for linear algebra is the vector so it's worth making sure that we're all on the same page about what exactly a vector is you see broadly speaking there are three distinct but related ideas about vectors which I'll call the physics student perspective the computer science student perspective and the mathematicians perspective the physics student perspective is that vectors are arrows pointing in space what defines a given Vector is its length and the direction its pointing but as long as those two facts are the same you can move it all around and it's still the same Vector vectors that live in the flat plane are two-dimensional and those sitting in broader space that you and I live in are three-dimensional the computer science perspective is that vectors are ordered lists of numbers for example let's say you were doing some analytics about house prices and the only features you cared about were square footage and price you might\n"
     ]
    }
   ],
   "source": [
    "print(id1[0].page_content)"
   ]
  },
  {
   "cell_type": "markdown",
   "id": "963e9e07",
   "metadata": {},
   "source": [
    "## Step 2 - Retrieval"
   ]
  },
  {
   "cell_type": "code",
   "execution_count": 56,
   "id": "ddeb84ed",
   "metadata": {},
   "outputs": [],
   "source": [
    "retriever = vector_store.as_retriever(\n",
    "    search_type = 'similarity',\n",
    "    search_kwargs = {'k':4}\n",
    ")"
   ]
  },
  {
   "cell_type": "code",
   "execution_count": 57,
   "id": "26e5f933",
   "metadata": {},
   "outputs": [
    {
     "data": {
      "text/plain": [
       "VectorStoreRetriever(tags=['FAISS', 'GoogleGenerativeAIEmbeddings'], vectorstore=<langchain_community.vectorstores.faiss.FAISS object at 0x786af87ef7f0>, search_kwargs={'k': 4})"
      ]
     },
     "execution_count": 57,
     "metadata": {},
     "output_type": "execute_result"
    }
   ],
   "source": [
    "retriever"
   ]
  },
  {
   "cell_type": "code",
   "execution_count": 58,
   "id": "d9e9c5aa",
   "metadata": {},
   "outputs": [
    {
     "data": {
      "text/plain": [
       "[Document(id='f4d8fd01-1ccf-44f9-95b1-14e6bc0c811f', metadata={}, page_content=\"which you should think of as the center of space and the root of all vectors after choosing an arbitrary length to represent one you make tick marks on each axis to represent this distance when I want to convey the idea of 2D space as a whole which you'll see comes up a lot in these videos I'll extend these tick marks to make grid lines but right now they'll actually get a little bit in the way the coordinates of a vector is a pair of numbers that basically gives instructions for how to get from the tail of that Vector at the origin to its tip the first number tells you how far to walk along the x-axis positive numbers indicating rightward motion negative numbers indicating leftward motion and the second number tells you how far to walk parallel to the y- AIS after that positive numbers indicating upward motion and negative numbers indicating downward motion to distinguish vectors from points the convention is to write this pair of numbers vertically with square brackets around them\"),\n",
       " Document(id='bdd497a9-42fe-4bf7-b6e2-a6728e45fe18', metadata={}, page_content=\"one 2 and the second one has coordinates 31 when you take the vector sum using this tip toil method you can think of a four-step path from the origin to the tip of the second Vector walk one to the right then two up then three to the right then one down reorganizing these steps so that you first do all of the right word motion then do all the vertical motion you can read it as saying first move 1 + 3 to the right then move 2 - 1 up so the new Vector has coordinates 1 + 3 and 2 +1 in general vector addition in this list of numbers conception looks like matching up their terms and adding each one together the other fundamental Vector operation is multiplication by a number now this is best understood just by looking at a few examples if you take the number two and multiply it by a given Vector it means you stretch out that Vector so that it's two times as long as when you started if you multiply that vector by say 1/3 it means you squish it down so that it's 1/3 the original length when\"),\n",
       " Document(id='d7e396ac-ca75-49fc-b755-88c21703f1f9', metadata={}, page_content=\"[Music] the fundamental root of itall building block for linear algebra is the vector so it's worth making sure that we're all on the same page about what exactly a vector is you see broadly speaking there are three distinct but related ideas about vectors which I'll call the physics student perspective the computer science student perspective and the mathematicians perspective the physics student perspective is that vectors are arrows pointing in space what defines a given Vector is its length and the direction its pointing but as long as those two facts are the same you can move it all around and it's still the same Vector vectors that live in the flat plane are two-dimensional and those sitting in broader space that you and I live in are three-dimensional the computer science perspective is that vectors are ordered lists of numbers for example let's say you were doing some analytics about house prices and the only features you cared about were square footage and price you might\"),\n",
       " Document(id='a0132f5e-65e6-4ffe-82c6-11777a0ca9e3', metadata={}, page_content='indicating upward motion and negative numbers indicating downward motion to distinguish vectors from points the convention is to write this pair of numbers vertically with square brackets around them every pair of numbers gives you one and only one vector and every Vector is associated with one and only one pair of numbers what about in three dimensions well you add a third axis called the z-axis which is perpendicular to both the X and Y AIS and in this case each Vector is associated with an ordered triplet of numbers the first tells you how far to move along the x-axis the second tells you how far to move parallel to the y- AIS and the third one tells you how far to then move parallel to this new Z axis every triplet of numbers gives you one unique Vector in space and every Vector in space gives you exactly one triplet of numbers all right so back to vector addition and multiplication by numbers after all every topic in linear algebra is going to center around these two operations')]"
      ]
     },
     "execution_count": 58,
     "metadata": {},
     "output_type": "execute_result"
    }
   ],
   "source": [
    "retriever.invoke('what is the vector')"
   ]
  },
  {
   "cell_type": "markdown",
   "id": "f89b994c",
   "metadata": {},
   "source": [
    "## Step 3 - Augmentation"
   ]
  },
  {
   "cell_type": "code",
   "execution_count": 70,
   "id": "fb515c6f",
   "metadata": {},
   "outputs": [
    {
     "name": "stderr",
     "output_type": "stream",
     "text": [
      "E0000 00:00:1760162759.681279   14787 alts_credentials.cc:93] ALTS creds ignored. Not running on GCP and untrusted ALTS is not enabled.\n"
     ]
    }
   ],
   "source": [
    "llm = ChatGoogleGenerativeAI(model = 'gemini-2.5-flash')"
   ]
  },
  {
   "cell_type": "code",
   "execution_count": 60,
   "id": "c8e4c485",
   "metadata": {},
   "outputs": [],
   "source": [
    "Prompt = PromptTemplate(\n",
    "    \n",
    "    template=\"\"\"\n",
    "      You are a helpful assistant.\n",
    "      Answer ONLY from the provided transcript context.\n",
    "      If the context is insufficient, just say you don't know.\n",
    "\n",
    "      {context}\n",
    "      Question: {question}\n",
    "    \"\"\",\n",
    "    input_variables = ['context', 'question']\n",
    ")\n"
   ]
  },
  {
   "cell_type": "code",
   "execution_count": 61,
   "id": "abcda7e6",
   "metadata": {},
   "outputs": [],
   "source": [
    "question = \"for what topic in this video is discussing about?\"\n",
    "retriever_docs = retriever.invoke(question)"
   ]
  },
  {
   "cell_type": "code",
   "execution_count": 62,
   "id": "270185e1",
   "metadata": {},
   "outputs": [
    {
     "data": {
      "text/plain": [
       "[Document(id='a3b38f72-9f07-475b-8114-baa7e37ebfe2', metadata={}, page_content=\"on the screen and doing that usually relies on a lot of linear algebra understanding so there are your vector Basics and in the next video video I'll start getting into some pretty neat Concepts surrounding vectors like span bases and linear dependence see you then [Music]\"),\n",
       " Document(id='b8f82a5b-c659-4eee-8860-388260e4e991', metadata={}, page_content=\"in this video the details of this view are rather abstract and I actually think it's healthy to ignore it until the last video of this series favoring a more concrete setting in the interim but the reason I bring it up here is that it hints at the fact that the ideas of vector addition and multiplication by numbers will play an important role throughout linear algebra but before I talk about those operations let's just settle in on a specific thought to have in mind when I say the word Vector given the geometric Focus that I'm shooting for here whenever I introduce a new topic involving vectors I want you to First think about an arrow and specifically think about that Arrow inside a coordinate system like the XY plane with its tail sitting at the origin this is a little bit different from the physics student perspective where vectors can freely sit anywhere they want in space in linear algebra it's almost always the case that your vector will be rooted at the order then once you\"),\n",
       " Document(id='58c9f7f7-5ede-45a5-925c-b14f2c3a925a', metadata={}, page_content=\"to have a nice geometric interpretation the usefulness of linear algebra has less to do with either one of these views than it does with the ability to translate back and forth between them it gives the data analyst a nice way to conceptualize many lists of numbers in a visual way which can seriously clarify patterns in data and give a global view of what certain operations do do and on the flip side it gives people like physicists and computer Graphics programmers a language to describe space and the manipulation of space using numbers that can be crunched and run through a computer when I do mathy animations for example I start by thinking about what's actually going on in space and then get the computer to represent things numerically thereby figuring out where to place the pixels on the screen and doing that usually relies on a lot of linear algebra understanding so there are your vector Basics and in the next video video I'll start getting into some pretty neat Concepts\"),\n",
       " Document(id='03cc5ea4-c748-490c-9f29-829fc9e93d83', metadata={}, page_content=\"is that vectors are ordered lists of numbers for example let's say you were doing some analytics about house prices and the only features you cared about were square footage and price you might model each house with a pair of numbers the first indicating square footage and the second indicating price notice the order matters here in the lingo you'd be modeling houses as two-dimensional vectors where in this context Vector is pretty much just a fancy word for list and what makes it two-dimensional is the fact that the length of that list is two the mathematician on the other hand seeks to generalize both these views basically saying that a vector can be anything where there's a sensible notion of adding two vectors and multiplying a vector by a number operations that I'll talk about later on in this video the details of this view are rather abstract and I actually think it's healthy to ignore it until the last video of this series favoring a more concrete setting in the interim but the\")]"
      ]
     },
     "execution_count": 62,
     "metadata": {},
     "output_type": "execute_result"
    }
   ],
   "source": [
    "retriever_docs"
   ]
  },
  {
   "cell_type": "code",
   "execution_count": 63,
   "id": "173db1ce",
   "metadata": {},
   "outputs": [
    {
     "data": {
      "text/plain": [
       "\"on the screen and doing that usually relies on a lot of linear algebra understanding so there are your vector Basics and in the next video video I'll start getting into some pretty neat Concepts surrounding vectors like span bases and linear dependence see you then [Music]\\n\\nin this video the details of this view are rather abstract and I actually think it's healthy to ignore it until the last video of this series favoring a more concrete setting in the interim but the reason I bring it up here is that it hints at the fact that the ideas of vector addition and multiplication by numbers will play an important role throughout linear algebra but before I talk about those operations let's just settle in on a specific thought to have in mind when I say the word Vector given the geometric Focus that I'm shooting for here whenever I introduce a new topic involving vectors I want you to First think about an arrow and specifically think about that Arrow inside a coordinate system like the XY plane with its tail sitting at the origin this is a little bit different from the physics student perspective where vectors can freely sit anywhere they want in space in linear algebra it's almost always the case that your vector will be rooted at the order then once you\\n\\nto have a nice geometric interpretation the usefulness of linear algebra has less to do with either one of these views than it does with the ability to translate back and forth between them it gives the data analyst a nice way to conceptualize many lists of numbers in a visual way which can seriously clarify patterns in data and give a global view of what certain operations do do and on the flip side it gives people like physicists and computer Graphics programmers a language to describe space and the manipulation of space using numbers that can be crunched and run through a computer when I do mathy animations for example I start by thinking about what's actually going on in space and then get the computer to represent things numerically thereby figuring out where to place the pixels on the screen and doing that usually relies on a lot of linear algebra understanding so there are your vector Basics and in the next video video I'll start getting into some pretty neat Concepts\\n\\nis that vectors are ordered lists of numbers for example let's say you were doing some analytics about house prices and the only features you cared about were square footage and price you might model each house with a pair of numbers the first indicating square footage and the second indicating price notice the order matters here in the lingo you'd be modeling houses as two-dimensional vectors where in this context Vector is pretty much just a fancy word for list and what makes it two-dimensional is the fact that the length of that list is two the mathematician on the other hand seeks to generalize both these views basically saying that a vector can be anything where there's a sensible notion of adding two vectors and multiplying a vector by a number operations that I'll talk about later on in this video the details of this view are rather abstract and I actually think it's healthy to ignore it until the last video of this series favoring a more concrete setting in the interim but the\""
      ]
     },
     "execution_count": 63,
     "metadata": {},
     "output_type": "execute_result"
    }
   ],
   "source": [
    "context_text = \"\\n\\n\".join(doc.page_content for doc in retriever_docs)\n",
    "context_text"
   ]
  },
  {
   "cell_type": "code",
   "execution_count": 65,
   "id": "4873bb20",
   "metadata": {},
   "outputs": [],
   "source": [
    "final_prompt = Prompt.invoke({'context':context_text,'question':question})"
   ]
  },
  {
   "cell_type": "code",
   "execution_count": 66,
   "id": "e1ad3506",
   "metadata": {},
   "outputs": [
    {
     "data": {
      "text/plain": [
       "StringPromptValue(text=\"\\n      You are a helpful assistant.\\n      Answer ONLY from the provided transcript context.\\n      If the context is insufficient, just say you don't know.\\n\\n      on the screen and doing that usually relies on a lot of linear algebra understanding so there are your vector Basics and in the next video video I'll start getting into some pretty neat Concepts surrounding vectors like span bases and linear dependence see you then [Music]\\n\\nin this video the details of this view are rather abstract and I actually think it's healthy to ignore it until the last video of this series favoring a more concrete setting in the interim but the reason I bring it up here is that it hints at the fact that the ideas of vector addition and multiplication by numbers will play an important role throughout linear algebra but before I talk about those operations let's just settle in on a specific thought to have in mind when I say the word Vector given the geometric Focus that I'm shooting for here whenever I introduce a new topic involving vectors I want you to First think about an arrow and specifically think about that Arrow inside a coordinate system like the XY plane with its tail sitting at the origin this is a little bit different from the physics student perspective where vectors can freely sit anywhere they want in space in linear algebra it's almost always the case that your vector will be rooted at the order then once you\\n\\nto have a nice geometric interpretation the usefulness of linear algebra has less to do with either one of these views than it does with the ability to translate back and forth between them it gives the data analyst a nice way to conceptualize many lists of numbers in a visual way which can seriously clarify patterns in data and give a global view of what certain operations do do and on the flip side it gives people like physicists and computer Graphics programmers a language to describe space and the manipulation of space using numbers that can be crunched and run through a computer when I do mathy animations for example I start by thinking about what's actually going on in space and then get the computer to represent things numerically thereby figuring out where to place the pixels on the screen and doing that usually relies on a lot of linear algebra understanding so there are your vector Basics and in the next video video I'll start getting into some pretty neat Concepts\\n\\nis that vectors are ordered lists of numbers for example let's say you were doing some analytics about house prices and the only features you cared about were square footage and price you might model each house with a pair of numbers the first indicating square footage and the second indicating price notice the order matters here in the lingo you'd be modeling houses as two-dimensional vectors where in this context Vector is pretty much just a fancy word for list and what makes it two-dimensional is the fact that the length of that list is two the mathematician on the other hand seeks to generalize both these views basically saying that a vector can be anything where there's a sensible notion of adding two vectors and multiplying a vector by a number operations that I'll talk about later on in this video the details of this view are rather abstract and I actually think it's healthy to ignore it until the last video of this series favoring a more concrete setting in the interim but the\\n      Question: for what topic in this video is discussing about?\\n    \")"
      ]
     },
     "execution_count": 66,
     "metadata": {},
     "output_type": "execute_result"
    }
   ],
   "source": [
    "final_prompt"
   ]
  },
  {
   "cell_type": "markdown",
   "id": "2fd9bd2f",
   "metadata": {},
   "source": [
    "## Step 4 - Generation"
   ]
  },
  {
   "cell_type": "code",
   "execution_count": null,
   "id": "1a4de47c",
   "metadata": {},
   "outputs": [],
   "source": []
  },
  {
   "cell_type": "code",
   "execution_count": 71,
   "id": "4e0d7058",
   "metadata": {},
   "outputs": [
    {
     "name": "stdout",
     "output_type": "stream",
     "text": [
      "The video is discussing vector basics, including different ways to conceptualize vectors (as arrows in a coordinate system, as ordered lists of numbers, and abstractly), and hints at operations like vector addition and multiplication by numbers, all within the context of linear algebra.\n"
     ]
    }
   ],
   "source": [
    "answer = llm.invoke(final_prompt)\n",
    "print(answer.content)"
   ]
  },
  {
   "cell_type": "markdown",
   "id": "9407daec",
   "metadata": {},
   "source": [
    "## Building a Chain"
   ]
  },
  {
   "cell_type": "code",
   "execution_count": 72,
   "id": "f630332a",
   "metadata": {},
   "outputs": [],
   "source": [
    "## Building a Chain"
   ]
  },
  {
   "cell_type": "code",
   "execution_count": 73,
   "id": "60d70d39",
   "metadata": {},
   "outputs": [],
   "source": [
    "from langchain_core.runnables import RunnableLambda,RunnableParallel,RunnablePassthrough\n",
    "\n",
    "from langchain_core.output_parsers import StrOutputParser"
   ]
  },
  {
   "cell_type": "code",
   "execution_count": 74,
   "id": "057c1e04",
   "metadata": {},
   "outputs": [],
   "source": [
    "def format_docs(retrieved_docs):\n",
    "    context_text = \"\\n\\n\".join(doc.page_content for doc in retrieved_docs)\n",
    "    return context_text"
   ]
  },
  {
   "cell_type": "code",
   "execution_count": 75,
   "id": "1084c315",
   "metadata": {},
   "outputs": [],
   "source": [
    "parallel_chain = RunnableParallel(\n",
    "    {\n",
    "        'context': retriever | RunnableLambda(format_docs),\n",
    "        'question':RunnablePassthrough()\n",
    "    }\n",
    ")"
   ]
  },
  {
   "cell_type": "code",
   "execution_count": 77,
   "id": "04e1b778",
   "metadata": {},
   "outputs": [
    {
     "data": {
      "text/plain": [
       "{'context': \"on the screen and doing that usually relies on a lot of linear algebra understanding so there are your vector Basics and in the next video video I'll start getting into some pretty neat Concepts surrounding vectors like span bases and linear dependence see you then [Music]\\n\\nin this video the details of this view are rather abstract and I actually think it's healthy to ignore it until the last video of this series favoring a more concrete setting in the interim but the reason I bring it up here is that it hints at the fact that the ideas of vector addition and multiplication by numbers will play an important role throughout linear algebra but before I talk about those operations let's just settle in on a specific thought to have in mind when I say the word Vector given the geometric Focus that I'm shooting for here whenever I introduce a new topic involving vectors I want you to First think about an arrow and specifically think about that Arrow inside a coordinate system like the XY plane with its tail sitting at the origin this is a little bit different from the physics student perspective where vectors can freely sit anywhere they want in space in linear algebra it's almost always the case that your vector will be rooted at the order then once you\\n\\nto have a nice geometric interpretation the usefulness of linear algebra has less to do with either one of these views than it does with the ability to translate back and forth between them it gives the data analyst a nice way to conceptualize many lists of numbers in a visual way which can seriously clarify patterns in data and give a global view of what certain operations do do and on the flip side it gives people like physicists and computer Graphics programmers a language to describe space and the manipulation of space using numbers that can be crunched and run through a computer when I do mathy animations for example I start by thinking about what's actually going on in space and then get the computer to represent things numerically thereby figuring out where to place the pixels on the screen and doing that usually relies on a lot of linear algebra understanding so there are your vector Basics and in the next video video I'll start getting into some pretty neat Concepts\\n\\nwhich you should think of as the center of space and the root of all vectors after choosing an arbitrary length to represent one you make tick marks on each axis to represent this distance when I want to convey the idea of 2D space as a whole which you'll see comes up a lot in these videos I'll extend these tick marks to make grid lines but right now they'll actually get a little bit in the way the coordinates of a vector is a pair of numbers that basically gives instructions for how to get from the tail of that Vector at the origin to its tip the first number tells you how far to walk along the x-axis positive numbers indicating rightward motion negative numbers indicating leftward motion and the second number tells you how far to walk parallel to the y- AIS after that positive numbers indicating upward motion and negative numbers indicating downward motion to distinguish vectors from points the convention is to write this pair of numbers vertically with square brackets around them\",\n",
       " 'question': 'what is this video about ?'}"
      ]
     },
     "execution_count": 77,
     "metadata": {},
     "output_type": "execute_result"
    }
   ],
   "source": [
    "parallel_chain.invoke('what is this video about ?')"
   ]
  },
  {
   "cell_type": "code",
   "execution_count": 78,
   "id": "fb080451",
   "metadata": {},
   "outputs": [],
   "source": [
    "parser = StrOutputParser()"
   ]
  },
  {
   "cell_type": "code",
   "execution_count": 79,
   "id": "0dd832cf",
   "metadata": {},
   "outputs": [],
   "source": [
    "main_chain = parallel_chain | Prompt | llm | parser"
   ]
  },
  {
   "cell_type": "code",
   "execution_count": 80,
   "id": "548ae9f9",
   "metadata": {},
   "outputs": [
    {
     "data": {
      "text/plain": [
       "\"The video discusses two main ways to think about vectors: as ordered lists of numbers (e.g., square footage and price of a house) and as arrows in space, originating from the origin. The usefulness of linear algebra comes from the ability to translate between these two views. This allows data analysts to visualize patterns in data and helps physicists and computer graphics programmers describe and manipulate space numerically. The coordinates of a vector provide instructions on how to move from the origin to the vector's tip, with the first number indicating motion along the x-axis and the second along the y-axis. The next video will delve into concepts like span, bases, and linear dependence.\""
      ]
     },
     "execution_count": 80,
     "metadata": {},
     "output_type": "execute_result"
    }
   ],
   "source": [
    "main_chain.invoke('can you summarize the video')"
   ]
  },
  {
   "cell_type": "code",
   "execution_count": null,
   "id": "1e281f60",
   "metadata": {},
   "outputs": [],
   "source": []
  },
  {
   "cell_type": "code",
   "execution_count": 112,
   "id": "c8077d15",
   "metadata": {},
   "outputs": [
    {
     "name": "stdout",
     "output_type": "stream",
     "text": [
      "📊 Graph Structure:\n",
      "==================================================\n",
      "🟢 Node: Parallel<context,question>Input\n",
      "   Type: ModelMetaclass\n",
      "   ID: 9f7d64eb867247e8b5bca03743b2074d\n",
      "\n",
      "🟢 Node: Parallel<context,question>Output\n",
      "   Type: ModelMetaclass\n",
      "   ID: 2cf703324e344ef78544b8581e5c1943\n",
      "\n",
      "🟢 Node: VectorStoreRetriever\n",
      "   Type: VectorStoreRetriever\n",
      "   ID: 4c1c49fe76c0429385972f7f88aa81bf\n",
      "\n",
      "🟢 Node: format_docs\n",
      "   Type: RunnableLambda\n",
      "   ID: bf22d861e3054bd4b86b2bc2272f21f8\n",
      "\n",
      "🟢 Node: Passthrough\n",
      "   Type: RunnablePassthrough\n",
      "   ID: 94b8cac4a6d34f4ebb4ef179984be8e3\n",
      "\n",
      "==================================================\n",
      "🔗 Edges:\n",
      "   VectorStoreRetriever  --->  format_docs\n",
      "   Parallel<context,question>Input  --->  VectorStoreRetriever\n",
      "   format_docs  --->  Parallel<context,question>Output\n",
      "   Parallel<context,question>Input  --->  Passthrough\n",
      "   Passthrough  --->  Parallel<context,question>Output\n"
     ]
    }
   ],
   "source": [
    "graph = parallel_chain.get_graph()\n",
    "\n",
    "print(\"📊 Graph Structure:\")\n",
    "print(\"=\" * 50)\n",
    "\n",
    "for node_id, node in graph.nodes.items():\n",
    "    print(f\"🟢 Node: {node.name}\")\n",
    "    if hasattr(node.data, '__class__'):\n",
    "        print(f\"   Type: {node.data.__class__.__name__}\")\n",
    "    print(f\"   ID: {node_id}\\n\")\n",
    "\n",
    "print(\"=\" * 50)\n",
    "print(\"🔗 Edges:\")\n",
    "for edge in graph.edges:\n",
    "    src = graph.nodes[edge.source].name\n",
    "    tgt = graph.nodes[edge.target].name\n",
    "    print(f\"   {src}  --->  {tgt}\")\n"
   ]
  },
  {
   "cell_type": "code",
   "execution_count": 114,
   "id": "09cceaaa",
   "metadata": {},
   "outputs": [
    {
     "name": "stdout",
     "output_type": "stream",
     "text": [
      "Collecting matplotlib\n",
      "  Downloading matplotlib-3.10.7-cp310-cp310-manylinux2014_x86_64.manylinux_2_17_x86_64.whl.metadata (11 kB)\n",
      "Collecting contourpy>=1.0.1 (from matplotlib)\n",
      "  Downloading contourpy-1.3.2-cp310-cp310-manylinux_2_17_x86_64.manylinux2014_x86_64.whl.metadata (5.5 kB)\n",
      "Collecting cycler>=0.10 (from matplotlib)\n",
      "  Downloading cycler-0.12.1-py3-none-any.whl.metadata (3.8 kB)\n",
      "Collecting fonttools>=4.22.0 (from matplotlib)\n",
      "  Downloading fonttools-4.60.1-cp310-cp310-manylinux2014_x86_64.manylinux_2_17_x86_64.whl.metadata (112 kB)\n",
      "Collecting kiwisolver>=1.3.1 (from matplotlib)\n",
      "  Downloading kiwisolver-1.4.9-cp310-cp310-manylinux_2_12_x86_64.manylinux2010_x86_64.whl.metadata (6.3 kB)\n",
      "Requirement already satisfied: numpy>=1.23 in /media/rgukt/data/RAG/venv/lib/python3.10/site-packages (from matplotlib) (2.2.6)\n",
      "Requirement already satisfied: packaging>=20.0 in /media/rgukt/data/RAG/venv/lib/python3.10/site-packages (from matplotlib) (25.0)\n",
      "Requirement already satisfied: pillow>=8 in /media/rgukt/data/RAG/venv/lib/python3.10/site-packages (from matplotlib) (11.3.0)\n",
      "Requirement already satisfied: pyparsing>=3 in /media/rgukt/data/RAG/venv/lib/python3.10/site-packages (from matplotlib) (3.2.5)\n",
      "Requirement already satisfied: python-dateutil>=2.7 in /media/rgukt/data/RAG/venv/lib/python3.10/site-packages (from matplotlib) (2.9.0.post0)\n",
      "Requirement already satisfied: six>=1.5 in /media/rgukt/data/RAG/venv/lib/python3.10/site-packages (from python-dateutil>=2.7->matplotlib) (1.17.0)\n",
      "Downloading matplotlib-3.10.7-cp310-cp310-manylinux2014_x86_64.manylinux_2_17_x86_64.whl (8.7 MB)\n",
      "\u001b[2K   \u001b[90m━━━━━━━━━━━━━━━━━━━━━━━━━━━━━━━━━━━━━━━━\u001b[0m \u001b[32m8.7/8.7 MB\u001b[0m \u001b[31m1.5 MB/s\u001b[0m  \u001b[33m0:00:05\u001b[0m eta \u001b[36m0:00:01\u001b[0m\n",
      "\u001b[?25hDownloading contourpy-1.3.2-cp310-cp310-manylinux_2_17_x86_64.manylinux2014_x86_64.whl (325 kB)\n",
      "Downloading cycler-0.12.1-py3-none-any.whl (8.3 kB)\n",
      "Downloading fonttools-4.60.1-cp310-cp310-manylinux2014_x86_64.manylinux_2_17_x86_64.whl (4.8 MB)\n",
      "\u001b[2K   \u001b[90m━━━━━━━━━━━━━━━━━━━━━━━━━━━━━━━━━━━━━━━━\u001b[0m \u001b[32m4.8/4.8 MB\u001b[0m \u001b[31m2.7 MB/s\u001b[0m  \u001b[33m0:00:01\u001b[0m eta \u001b[36m0:00:01\u001b[0m\n",
      "\u001b[?25hDownloading kiwisolver-1.4.9-cp310-cp310-manylinux_2_12_x86_64.manylinux2010_x86_64.whl (1.6 MB)\n",
      "\u001b[2K   \u001b[90m━━━━━━━━━━━━━━━━━━━━━━━━━━━━━━━━━━━━━━━━\u001b[0m \u001b[32m1.6/1.6 MB\u001b[0m \u001b[31m3.0 MB/s\u001b[0m  \u001b[33m0:00:00\u001b[0m eta \u001b[36m0:00:01\u001b[0m\n",
      "\u001b[?25hInstalling collected packages: kiwisolver, fonttools, cycler, contourpy, matplotlib\n",
      "\u001b[2K   \u001b[90m━━━━━━━━━━━━━━━━━━━━━━━━━━━━━━━━━━━━━━━━\u001b[0m \u001b[32m5/5\u001b[0m [matplotlib]5\u001b[0m [matplotlib]\n",
      "\u001b[1A\u001b[2KSuccessfully installed contourpy-1.3.2 cycler-0.12.1 fonttools-4.60.1 kiwisolver-1.4.9 matplotlib-3.10.7\n"
     ]
    }
   ],
   "source": []
  },
  {
   "cell_type": "code",
   "execution_count": 132,
   "id": "96d01c7f",
   "metadata": {},
   "outputs": [
    {
     "data": {
      "image/png": "[encoded data removed]",
      "text/plain": [
       "<Figure size 1200x600 with 1 Axes>"
      ]
     },
     "metadata": {},
     "output_type": "display_data"
    }
   ],
   "source": [
    "import networkx as nx\n",
    "import matplotlib.pyplot as plt\n",
    "\n",
    "def draw_langchain_graph(graph, title=\"LangChain Graph\"):\n",
    "    \"\"\"\n",
    "    Draws a hierarchical (top-down) flow of any LangChain Runnable graph.\n",
    "    \n",
    "    Args:\n",
    "        graph: LangChain graph object (from .get_graph())\n",
    "        title: Plot title\n",
    "    \"\"\"\n",
    "    G = nx.DiGraph()\n",
    "\n",
    "    # Add nodes with type info\n",
    "    node_colors = []\n",
    "    for node_id, node in graph.nodes.items():\n",
    "        G.add_node(node_id, label=node.name)\n",
    "        \n",
    "        # Color-code by type\n",
    "        node_type = type(getattr(node, 'data', None)).__name__\n",
    "        if 'Retriever' in node_type:\n",
    "            node_colors.append('lightgreen')\n",
    "        elif 'Lambda' in node_type:\n",
    "            node_colors.append('lightcoral')\n",
    "        elif 'Passthrough' in node_type:\n",
    "            node_colors.append('lightyellow')\n",
    "        elif 'Input' in node.name:\n",
    "            node_colors.append('skyblue')\n",
    "        elif 'Output' in node.name:\n",
    "            node_colors.append('orange')\n",
    "        else:\n",
    "            node_colors.append('lightgrey')\n",
    "\n",
    "    # Add edges\n",
    "    for edge in graph.edges:\n",
    "        G.add_edge(edge.source, edge.target)\n",
    "\n",
    "    # Hierarchical layout (top-down)\n",
    "    def hierarchy_pos(G, root=None, width=1.0, vert_gap=0.2, xcenter=0.5):\n",
    "        if root is None:\n",
    "            root = list(nx.topological_sort(G))[0]\n",
    "\n",
    "        def _hierarchy_pos(G, root, left, right, vert_pos=0, pos=None, parent=None):\n",
    "            if pos is None:\n",
    "                pos = {}\n",
    "            pos[root] = ((left + right) / 2, -vert_pos)\n",
    "            children = list(G.successors(root))\n",
    "            if len(children) != 0:\n",
    "                dx = (right - left) / len(children)\n",
    "                nextx = left\n",
    "                for child in children:\n",
    "                    next_right = nextx + dx\n",
    "                    pos = _hierarchy_pos(G, child, nextx, next_right, vert_pos + vert_gap, pos, root)\n",
    "                    nextx += dx\n",
    "            return pos\n",
    "\n",
    "        return _hierarchy_pos(G, root, 0, width)\n",
    "\n",
    "    pos = hierarchy_pos(G)\n",
    "\n",
    "    # Draw graph\n",
    "    plt.figure(figsize=(12, 6))\n",
    "    labels = {n: G.nodes[n]['label'] for n in G.nodes}\n",
    "    nx.draw(G, pos, labels=labels, with_labels=True, arrows=True,\n",
    "            node_size=2500, node_color=node_colors, font_size=10, font_weight=\"bold\")\n",
    "    plt.title(title, fontsize=14)\n",
    "    plt.axis('off')\n",
    "    plt.show()\n",
    "\n",
    "\n",
    "# Usage example with any Runnable graph:\n",
    "graph = main_chain.get_graph()\n",
    "draw_langchain_graph(graph, title=\"main_chain\")\n"
   ]
  },
  {
   "cell_type": "code",
   "execution_count": null,
   "id": "1e440677",
   "metadata": {},
   "outputs": [],
   "source": []
  },
  {
   "cell_type": "code",
   "execution_count": null,
   "id": "5762254c",
   "metadata": {},
   "outputs": [],
   "source": []
  },
  {
   "cell_type": "code",
   "execution_count": null,
   "id": "e49eda19",
   "metadata": {},
   "outputs": [],
   "source": []
  },
  {
   "cell_type": "markdown",
   "id": "ddb7c0e8",
   "metadata": {},
   "source": [
    "### Drawing int he png"
   ]
  },
  {
   "cell_type": "code",
   "execution_count": null,
   "id": "b91aedec",
   "metadata": {},
   "outputs": [],
   "source": []
  },
  {
   "cell_type": "code",
   "execution_count": 131,
   "id": "6f249c1f",
   "metadata": {},
   "outputs": [
    {
     "name": "stderr",
     "output_type": "stream",
     "text": [
      "/media/rgukt/data/RAG/venv/lib/python3.10/site-packages/pygraphviz/agraph.py:1403: RuntimeWarning: Error: not well-formed (invalid token) in line 1 \n",
      "... Parallel<context,question> ...\n",
      "in label of node 4f47e86b502547e888963cfa271c4bdf\n",
      "Error: not well-formed (invalid token) in line 1 \n",
      "... Parallel<context,question> ...\n",
      "in label of node 6eff7957bc7a46eba193bce79dccd82e\n",
      "\n",
      "  warnings.warn(b\"\".join(errors).decode(self.encoding), RuntimeWarning)\n"
     ]
    }
   ],
   "source": [
    "# Assuming you have the same 'chain' as defined above\n",
    "main_chain.get_graph().draw_png(output_file_path=\"chain_diagram.png\")\n"
   ]
  },
  {
   "cell_type": "markdown",
   "id": "9f7223c6",
   "metadata": {},
   "source": [
    "## Building another one "
   ]
  },
  {
   "cell_type": "code",
   "execution_count": null,
   "id": "de2b578f",
   "metadata": {},
   "outputs": [],
   "source": []
  },
  {
   "cell_type": "code",
   "execution_count": 138,
   "id": "f610af07",
   "metadata": {},
   "outputs": [
    {
     "name": "stdout",
     "output_type": "stream",
     "text": [
      "Saving subtitles to: /media/rgukt/data/RAG/6_youtube_transcript\n",
      "Using cookie file: cookies.txt\n",
      "[youtube] Extracting URL: https://youtu.be/kCc8FmEb1nY?si=SO1hc8lLQDY1QTBa\n",
      "[youtube] kCc8FmEb1nY: Downloading webpage\n",
      "[youtube] kCc8FmEb1nY: Downloading tv client config\n",
      "[youtube] kCc8FmEb1nY: Downloading tv player API JSON\n",
      "[youtube] kCc8FmEb1nY: Downloading web safari player API JSON\n",
      "[youtube] kCc8FmEb1nY: Downloading m3u8 information\n",
      "[info] kCc8FmEb1nY: Downloading subtitles: en\n",
      "[info] kCc8FmEb1nY: Downloading 1 format(s): 401+251\n",
      "[info] Writing video subtitles to: Let's build GPT： from scratch, in code, spelled out..en.vtt\n"
     ]
    },
    {
     "name": "stderr",
     "output_type": "stream",
     "text": [
      "WARNING: The extractor specified to use impersonation for this download, but no impersonate target is available. If you encounter errors, then see  https://github.com/yt-dlp/yt-dlp#impersonation  for information on installing the required dependencies\n"
     ]
    },
    {
     "name": "stdout",
     "output_type": "stream",
     "text": [
      "[download] Destination: Let's build GPT： from scratch, in code, spelled out..en.vtt\n",
      "[download] 100% of 1012.61KiB in 00:00:01 at 931.92KiB/s\n",
      "\n",
      "✅ Finished downloading subtitles for the video!\n"
     ]
    }
   ],
   "source": [
    "download_single_video_subtitles_with_cookies('https://youtu.be/kCc8FmEb1nY?si=SO1hc8lLQDY1QTBa','cookies.txt')"
   ]
  },
  {
   "cell_type": "code",
   "execution_count": 139,
   "id": "16d6158d",
   "metadata": {},
   "outputs": [],
   "source": [
    "clean_text = clean_vtt('build GPT： from scratch, in code, spelled out..en.vtt')"
   ]
  },
  {
   "cell_type": "code",
   "execution_count": null,
   "id": "82971d9a",
   "metadata": {},
   "outputs": [
    {
     "data": {
      "text/plain": [
       "108990"
      ]
     },
     "execution_count": 141,
     "metadata": {},
     "output_type": "execute_result"
    }
   ],
   "source": []
  }
 ],
 "metadata": {
  "kernelspec": {
   "display_name": "venv",
   "language": "python",
   "name": "python3"
  },
  "language_info": {
   "codemirror_mode": {
    "name": "ipython",
    "version": 3
   },
   "file_extension": ".py",
   "mimetype": "text/x-python",
   "name": "python",
   "nbconvert_exporter": "python",
   "pygments_lexer": "ipython3",
   "version": "3.10.12"
  }
 },
 "nbformat": 4,
 "nbformat_minor": 5
}
