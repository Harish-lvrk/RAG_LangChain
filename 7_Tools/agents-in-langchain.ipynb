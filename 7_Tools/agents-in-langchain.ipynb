{
 "cells": [
  {
   "cell_type": "code",
   "execution_count": 2,
   "id": "987ba2e8",
   "metadata": {},
   "outputs": [
    {
     "name": "stdout",
     "output_type": "stream",
     "text": [
      "/media/rgukt/data/RAG/venv/bin/python\n"
     ]
    }
   ],
   "source": [
    "!which python"
   ]
  },
  {
   "cell_type": "code",
   "execution_count": 3,
   "id": "283d8b56",
   "metadata": {},
   "outputs": [],
   "source": [
    "from langchain_google_genai import ChatGoogleGenerativeAI\n",
    "from langchain_core.tools import tool\n",
    "import requests"
   ]
  },
  {
   "cell_type": "code",
   "execution_count": 4,
   "id": "817f641b",
   "metadata": {},
   "outputs": [],
   "source": [
    "from langchain_community.tools import DuckDuckGoSearchRun\n",
    "\n",
    "search_tool = DuckDuckGoSearchRun()"
   ]
  },
  {
   "cell_type": "code",
   "execution_count": 7,
   "id": "12dc4e1a",
   "metadata": {},
   "outputs": [],
   "source": [
    "@tool\n",
    "def get_weather_data(city: str)-> str:\n",
    "    \"\"\"\n",
    "    This function fetches the current weather data for a given city\n",
    "    \"\"\"\n",
    "    url = f'https://api.weatherstack.com/current?access_key=87a85acae54989ec357486912b2e1a3e&query={city}'\n",
    "    \n",
    "    response = requests.get(url=url)\n",
    "\n",
    "    return response.json()\n"
   ]
  },
  {
   "cell_type": "code",
   "execution_count": 9,
   "id": "34ae7d14",
   "metadata": {},
   "outputs": [
    {
     "data": {
      "text/plain": [
       "{'request': {'type': 'City',\n",
       "  'query': 'Vijayawada, India',\n",
       "  'language': 'en',\n",
       "  'unit': 'm'},\n",
       " 'location': {'name': 'Vijayawada',\n",
       "  'country': 'India',\n",
       "  'region': 'Andhra Pradesh',\n",
       "  'lat': '16.517',\n",
       "  'lon': '80.617',\n",
       "  'timezone_id': 'Asia/Kolkata',\n",
       "  'localtime': '2025-10-12 17:55',\n",
       "  'localtime_epoch': 1760291700,\n",
       "  'utc_offset': '5.50'},\n",
       " 'current': {'observation_time': '12:25 PM',\n",
       "  'temperature': 30,\n",
       "  'weather_code': 389,\n",
       "  'weather_icons': ['https://cdn.worldweatheronline.com/images/wsymbols01_png_64/wsymbol_0040_thunderstorms_night.png'],\n",
       "  'weather_descriptions': ['Thunderstorm, Rain With Thunderstorm'],\n",
       "  'astro': {'sunrise': '05:59 AM',\n",
       "   'sunset': '05:49 PM',\n",
       "   'moonrise': '10:33 PM',\n",
       "   'moonset': '11:18 AM',\n",
       "   'moon_phase': 'Waning Gibbous',\n",
       "   'moon_illumination': 69},\n",
       "  'air_quality': {'co': '302.85',\n",
       "   'no2': '2.65',\n",
       "   'o3': '138',\n",
       "   'so2': '9.25',\n",
       "   'pm2_5': '28.95',\n",
       "   'pm10': '29.25',\n",
       "   'us-epa-index': '2',\n",
       "   'gb-defra-index': '2'},\n",
       "  'wind_speed': 11,\n",
       "  'wind_degree': 123,\n",
       "  'wind_dir': 'ESE',\n",
       "  'pressure': 1007,\n",
       "  'precip': 1.1,\n",
       "  'humidity': 79,\n",
       "  'cloudcover': 50,\n",
       "  'feelslike': 39,\n",
       "  'uv_index': 0,\n",
       "  'visibility': 5,\n",
       "  'is_day': 'no'}}"
      ]
     },
     "execution_count": 9,
     "metadata": {},
     "output_type": "execute_result"
    }
   ],
   "source": [
    "get_weather_data('vijayawada')"
   ]
  },
  {
   "cell_type": "code",
   "execution_count": 17,
   "id": "3e3e7cbf",
   "metadata": {},
   "outputs": [
    {
     "name": "stderr",
     "output_type": "stream",
     "text": [
      "E0000 00:00:1760274986.403959   50441 alts_credentials.cc:93] ALTS creds ignored. Not running on GCP and untrusted ALTS is not enabled.\n"
     ]
    }
   ],
   "source": [
    "llm = ChatGoogleGenerativeAI(model= \"gemini-2.5-flash\")"
   ]
  },
  {
   "cell_type": "code",
   "execution_count": 11,
   "id": "1d9d3bb7",
   "metadata": {},
   "outputs": [],
   "source": [
    "from langchain.agents import create_react_agent, AgentExecutor\n",
    "from langchain import hub   \n"
   ]
  },
  {
   "cell_type": "code",
   "execution_count": 12,
   "id": "ec6b575f",
   "metadata": {},
   "outputs": [
    {
     "name": "stderr",
     "output_type": "stream",
     "text": [
      "/media/rgukt/data/RAG/venv/lib/python3.10/site-packages/langsmith/client.py:272: LangSmithMissingAPIKeyWarning: API key must be provided when using hosted LangSmith API\n",
      "  warnings.warn(\n"
     ]
    }
   ],
   "source": [
    "# Step 2: Pull the ReAct prompt from LangChain Hub\n",
    "prompt = hub.pull(\"hwchase17/react\")  # pulls the standard ReAct agent prompt\n"
   ]
  },
  {
   "cell_type": "code",
   "execution_count": 18,
   "id": "4f813952",
   "metadata": {},
   "outputs": [],
   "source": [
    "# Step 3: Create the ReAct agent manually with the pulled prompt\n",
    "agent = create_react_agent(\n",
    "    llm=llm,\n",
    "    tools=[search_tool, get_weather_data],\n",
    "    prompt=prompt\n",
    ")"
   ]
  },
  {
   "cell_type": "code",
   "execution_count": 19,
   "id": "d03df556",
   "metadata": {},
   "outputs": [],
   "source": [
    "# Step 4: Wrap it with AgentExecutor\n",
    "agent_executor = AgentExecutor(\n",
    "    agent=agent,\n",
    "    tools=[search_tool, get_weather_data],\n",
    "    verbose=True\n",
    ")"
   ]
  },
  {
   "cell_type": "code",
   "execution_count": 20,
   "id": "4e3ae514",
   "metadata": {},
   "outputs": [
    {
     "name": "stdout",
     "output_type": "stream",
     "text": [
      "\n",
      "\n",
      "\u001b[1m> Entering new AgentExecutor chain...\u001b[0m\n",
      "\u001b[32;1m\u001b[1;3mAction: duckduckgo_search\n",
      "Action Input: capital of India\u001b[0m\u001b[36;1m\u001b[1;3mThe state and union territory capitals are sorted according to administrative, legislative and judicial capitals. The administrative capital is where the executive government offices are located. Delhi,[b] officially the National Capital Territory (NCT) of Delhi, is a city and a union territory of India containing New Delhi, the capital of India . For example, New Delhi, India's capital, has a blend of modernity and history, Iconic landmarks such as India Gate and the Istana represent the country's past difficulties as well as its future … 5 days ago · Check the complete list of Indian States and Capitals with their formation dates, cultures, and key facts. Learn their significance and uniqueness in India's rich heritage. Jul 1, 2025 · What is the capital of India? New Delhi is the capital of India, and many will confuse Delhi with the capital of India, but their perception is wrong.\u001b[0m\u001b[32;1m\u001b[1;3mAction: get_weather_data\n",
      "Action Input: New Delhi\u001b[0m\u001b[33;1m\u001b[1;3m{'request': {'type': 'City', 'query': 'New Delhi, India', 'language': 'en', 'unit': 'm'}, 'location': {'name': 'New Delhi', 'country': 'India', 'region': 'Delhi', 'lat': '28.600', 'lon': '77.200', 'timezone_id': 'Asia/Kolkata', 'localtime': '2025-10-12 18:43', 'localtime_epoch': 1760294580, 'utc_offset': '5.50'}, 'current': {'observation_time': '01:13 PM', 'temperature': 27, 'weather_code': 143, 'weather_icons': ['https://cdn.worldweatheronline.com/images/wsymbols01_png_64/wsymbol_0006_mist.png'], 'weather_descriptions': ['Haze'], 'astro': {'sunrise': '06:20 AM', 'sunset': '05:55 PM', 'moonrise': '10:14 PM', 'moonset': '12:05 PM', 'moon_phase': 'Waning Gibbous', 'moon_illumination': 69}, 'air_quality': {'co': '396.85', 'no2': '5.95', 'o3': '196', 'so2': '24.55', 'pm2_5': '37.05', 'pm10': '133.05', 'us-epa-index': '2', 'gb-defra-index': '2'}, 'wind_speed': 11, 'wind_degree': 350, 'wind_dir': 'N', 'pressure': 1011, 'precip': 0, 'humidity': 54, 'cloudcover': 25, 'feelslike': 26, 'uv_index': 0, 'visibility': 4, 'is_day': 'no'}}\u001b[0m\u001b[32;1m\u001b[1;3mI now know the final answer\n",
      "Final Answer: The capital of India is New Delhi. The current weather condition in New Delhi is Haze, with a temperature of 27°C, feeling like 26°C. The wind speed is 11 km/h from the North, and humidity is 54%.\u001b[0m\n",
      "\n",
      "\u001b[1m> Finished chain.\u001b[0m\n"
     ]
    }
   ],
   "source": [
    "response = agent_executor.invoke({'input':'find the capital of india, then find it\\'s current weather condition'})"
   ]
  },
  {
   "cell_type": "code",
   "execution_count": null,
   "id": "d7550dd2",
   "metadata": {},
   "outputs": [],
   "source": []
  }
 ],
 "metadata": {
  "kernelspec": {
   "display_name": "venv",
   "language": "python",
   "name": "python3"
  },
  "language_info": {
   "codemirror_mode": {
    "name": "ipython",
    "version": 3
   },
   "file_extension": ".py",
   "mimetype": "text/x-python",
   "name": "python",
   "nbconvert_exporter": "python",
   "pygments_lexer": "ipython3",
   "version": "3.10.12"
  }
 },
 "nbformat": 4,
 "nbformat_minor": 5
}
