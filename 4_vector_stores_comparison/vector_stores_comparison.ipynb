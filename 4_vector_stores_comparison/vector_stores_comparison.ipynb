{
 "cells": [
  {
   "cell_type": "markdown",
   "id": "1deb3114",
   "metadata": {},
   "source": [
    "# Vector Stores Comparison with LangChain\n",
    "\n",
    "This notebook demonstrates the implementation and usage of different vector stores:\n",
    "1. Pinecone (Cloud-based)\n",
    "2. FAISS (Local, in-memory)\n",
    "3. Milvus/Zilliz (Self-hosted/Cloud)\n",
    "4. Weaviate (Self-hosted/Cloud)\n",
    "\n",
    "We'll use the same dataset across all vector stores to compare their functionality."
   ]
  },
  {
   "cell_type": "markdown",
   "id": "47bc223a",
   "metadata": {},
   "source": [
    "## Setting up Environment\n",
    "\n",
    "First, let's install all required packages and set up our environment:"
   ]
  },
  {
   "cell_type": "code",
   "execution_count": 1,
   "id": "54acb9fb",
   "metadata": {},
   "outputs": [],
   "source": [
    "# Install required packages\n",
    "# !pip install -q langchain-community langchain pinecone-client faiss-cpu pymilvus weaviate-client python-dotenv"
   ]
  },
  {
   "cell_type": "code",
   "execution_count": 7,
   "id": "c8b63cc3",
   "metadata": {},
   "outputs": [
    {
     "name": "stdout",
     "output_type": "stream",
     "text": [
      "✅ Google API key found\n",
      "✅ Embeddings model initialized\n"
     ]
    },
    {
     "name": "stderr",
     "output_type": "stream",
     "text": [
      "E0000 00:00:1760016611.373995   78734 alts_credentials.cc:93] ALTS creds ignored. Not running on GCP and untrusted ALTS is not enabled.\n",
      "E0000 00:00:1760016611.374578   78734 alts_credentials.cc:93] ALTS creds ignored. Not running on GCP and untrusted ALTS is not enabled.\n"
     ]
    }
   ],
   "source": [
    "# Import common dependencies\n",
    "import os\n",
    "from dotenv import load_dotenv\n",
    "from langchain_google_genai import GoogleGenerativeAIEmbeddings\n",
    "from langchain.schema import Document\n",
    "from typing import List\n",
    "import warnings\n",
    "warnings.filterwarnings('ignore')\n",
    "\n",
    "# Load environment variables\n",
    "load_dotenv()\n",
    "\n",
    "# Verify Google API key\n",
    "google_api_key = os.getenv('GOOGLE_API_KEY')\n",
    "if not google_api_key:\n",
    "    raise ValueError(\"❌ GOOGLE_API_KEY not found in .env file\")\n",
    "print(\"✅ Google API key found\")\n",
    "\n",
    "# Initialize Gemini embeddings model\n",
    "embeddings = GoogleGenerativeAIEmbeddings(\n",
    "    model=\"gemini-embedding-001\",  # or \"gemini-embedding-001\"\n",
    "    task_type=\"retrieval_document\",  # Specify task type for better embeddings\n",
    "    google_api_key=google_api_key\n",
    ")\n",
    "print(\"✅ Embeddings model initialized\")"
   ]
  },
  {
   "cell_type": "code",
   "execution_count": 8,
   "id": "5395b86d",
   "metadata": {},
   "outputs": [],
   "source": [
    "# Create sample documents\n",
    "documents = [\n",
    "    Document(\n",
    "        page_content=\"Python is a high-level programming language known for its simplicity and readability.\",\n",
    "        metadata={\"type\": \"programming\", \"language\": \"Python\"}\n",
    "    ),\n",
    "    Document(\n",
    "        page_content=\"JavaScript is a scripting language primarily used for web development.\",\n",
    "        metadata={\"type\": \"programming\", \"language\": \"JavaScript\"}\n",
    "    ),\n",
    "    Document(\n",
    "        page_content=\"Machine Learning is a subset of AI that focuses on data and algorithms.\",\n",
    "        metadata={\"type\": \"technology\", \"field\": \"AI\"}\n",
    "    ),\n",
    "    Document(\n",
    "        page_content=\"Deep Learning is part of machine learning based on artificial neural networks.\",\n",
    "        metadata={\"type\": \"technology\", \"field\": \"AI\"}\n",
    "    ),\n",
    "    Document(\n",
    "        page_content=\"Docker is a platform for developing, shipping, and running applications in containers.\",\n",
    "        metadata={\"type\": \"technology\", \"field\": \"DevOps\"}\n",
    "    )\n",
    "]"
   ]
  },
  {
   "cell_type": "markdown",
   "id": "4585c09a",
   "metadata": {},
   "source": [
    "## 1. FAISS Vector Store\n",
    "\n",
    "FAISS (Facebook AI Similarity Search) is a library for efficient similarity search. It's local and in-memory, making it perfect for smaller datasets and quick experimentation."
   ]
  },
  {
   "cell_type": "code",
   "execution_count": 10,
   "id": "10b817b6",
   "metadata": {},
   "outputs": [
    {
     "name": "stdout",
     "output_type": "stream",
     "text": [
      "FAISS vector store created successfully! ✅\n"
     ]
    }
   ],
   "source": [
    "# Initialize FAISS vector store\n",
    "from langchain.vectorstores import FAISS\n",
    "\n",
    "faiss_store = FAISS.from_documents(\n",
    "    documents=documents,\n",
    "    embedding=embeddings\n",
    ")\n",
    "print(\"FAISS vector store created successfully! ✅\")"
   ]
  },
  {
   "cell_type": "code",
   "execution_count": 11,
   "id": "1861c4f9",
   "metadata": {},
   "outputs": [
    {
     "name": "stdout",
     "output_type": "stream",
     "text": [
      "Query: What is artificial intelligence?\n",
      "\n",
      "Results:\n",
      "\n",
      "Score: 0.2305298000574112\n",
      "Content: Machine Learning is a subset of AI that focuses on data and algorithms.\n",
      "Metadata: {'type': 'technology', 'field': 'AI'}\n",
      "\n",
      "Score: 0.2490173727273941\n",
      "Content: Deep Learning is part of machine learning based on artificial neural networks.\n",
      "Metadata: {'type': 'technology', 'field': 'AI'}\n"
     ]
    }
   ],
   "source": [
    "# Search with FAISS\n",
    "query = \"What is artificial intelligence?\"\n",
    "results = faiss_store.similarity_search_with_score(query, k=2)\n",
    "\n",
    "print(\"Query:\", query)\n",
    "print(\"\\nResults:\")\n",
    "for doc, score in results:\n",
    "    print(f\"\\nScore: {score}\")\n",
    "    print(f\"Content: {doc.page_content}\")\n",
    "    print(f\"Metadata: {doc.metadata}\")"
   ]
  },
  {
   "cell_type": "markdown",
   "id": "96957a38",
   "metadata": {},
   "source": [
    "# Pinecone section removed\n",
    "# To re-enable Pinecone later:\n",
    "# 1. Create an index named 'langchain-demo' in Pinecone console with dimension matching your embeddings (3072)\n",
    "# 2. Add PINECONE_API_KEY to your .env\n",
    "# 3. Re-insert the Pinecone cell or use LangChain's Pinecone.from_documents/from_existing_index\n",
    "# (Pinecone removed to avoid package/version conflicts during this demo)\n",
    "print(\"⚠️ Pinecone section is disabled in this notebook. Skipping Pinecone tests.\")"
   ]
  },
  {
   "cell_type": "markdown",
   "id": "8a0bd024",
   "metadata": {},
   "source": [
    "### Finding Your Pinecone Environment\n",
    "\n",
    "To find your environment name:\n",
    "1. Log in to Pinecone Console (https://app.pinecone.io/)\n",
    "2. Go to \"API Keys\" in the left sidebar\n",
    "3. Look for \"Environment\" or \"Default Environment\"\n",
    "   - It will be something like `gcp-starter` or `us-east1-gcp-free`\n",
    "4. Copy this value and use it as your `PINECONE_ENV` in the .env file\n",
    "\n",
    "Example .env file:\n",
    "```\n",
    "PINECONE_API_KEY=a1b2c3d4-5e6f-7g8h-9i10-j11k12l13m14\n",
    "PINECONE_ENV=gcp-starter\n",
    "```"
   ]
  },
  {
   "cell_type": "code",
   "execution_count": 10,
   "id": "3551b52a",
   "metadata": {},
   "outputs": [
    {
     "name": "stdout",
     "output_type": "stream",
     "text": [
      "✅ Successfully connected to Pinecone!\n",
      "\n",
      "Active indexes: [{\n",
      "    \"name\": \"langchain-demo\",\n",
      "    \"metric\": \"cosine\",\n",
      "    \"host\": \"langchain-demo-7lvw08o.svc.aped-4627-b74a.pinecone.io\",\n",
      "    \"spec\": {\n",
      "        \"serverless\": {\n",
      "            \"cloud\": \"aws\",\n",
      "            \"region\": \"us-east-1\"\n",
      "        }\n",
      "    },\n",
      "    \"status\": {\n",
      "        \"ready\": true,\n",
      "        \"state\": \"Ready\"\n",
      "    },\n",
      "    \"vector_type\": \"dense\",\n",
      "    \"dimension\": 3072,\n",
      "    \"deletion_protection\": \"disabled\",\n",
      "    \"tags\": null\n",
      "}]\n",
      "\n",
      "Index Statistics:\n",
      "Dimension: 3072\n",
      "Metric: cosine\n",
      "Status: {'ready': True, 'state': 'Ready'}\n",
      "\n",
      "Index Statistics:\n",
      "Dimension: 3072\n",
      "Metric: cosine\n",
      "Status: {'ready': True, 'state': 'Ready'}\n"
     ]
    }
   ],
   "source": [
    "# Test Pinecone Connection\n",
    "import os\n",
    "from pinecone import Pinecone\n",
    "\n",
    "try:\n",
    "    api_key = os.getenv('PINECONE_API_KEY')\n",
    "    \n",
    "    if not api_key:\n",
    "        print(\"⚠️ PINECONE_API_KEY not found in .env file\")\n",
    "        print(\"\\nMake sure your .env file contains:\")\n",
    "        print(\"PINECONE_API_KEY=your_api_key_here\")\n",
    "    else:\n",
    "        # Initialize Pinecone with your specific configuration\n",
    "        pc = Pinecone(api_key=api_key)\n",
    "        \n",
    "        # List indexes\n",
    "        active_indexes = pc.list_indexes()\n",
    "        print(\"✅ Successfully connected to Pinecone!\")\n",
    "        print(f\"\\nActive indexes: {active_indexes}\")\n",
    "        \n",
    "        # Get index details\n",
    "        if \"langchain-demo\" in [index.name for index in active_indexes]:\n",
    "            index = pc.describe_index(\"langchain-demo\")\n",
    "            print(\"\\nIndex Statistics:\")\n",
    "            print(f\"Dimension: {index.dimension}\")\n",
    "            print(f\"Metric: {index.metric}\")\n",
    "            print(f\"Status: {index.status}\")\n",
    "            \n",
    "except Exception as e:\n",
    "    print(f\"❌ Error connecting to Pinecone: {str(e)}\")"
   ]
  },
  {
   "cell_type": "code",
   "execution_count": 9,
   "id": "2ca2dcd5",
   "metadata": {},
   "outputs": [
    {
     "ename": "Exception",
     "evalue": "The official Pinecone python package has been renamed from `pinecone-client` to `pinecone`. Please remove `pinecone-client` from your project dependencies and add `pinecone` instead. See the README at https://github.com/pinecone-io/pinecone-python-client for more information on using the python SDK.",
     "output_type": "error",
     "traceback": [
      "\u001b[0;31m---------------------------------------------------------------------------\u001b[0m",
      "\u001b[0;31mException\u001b[0m                                 Traceback (most recent call last)",
      "Cell \u001b[0;32mIn[9], line 2\u001b[0m\n\u001b[1;32m      1\u001b[0m \u001b[38;5;66;03m# Initialize Pinecone with Google's embeddings\u001b[39;00m\n\u001b[0;32m----> 2\u001b[0m \u001b[38;5;28;01mimport\u001b[39;00m\u001b[38;5;250m \u001b[39m\u001b[38;5;21;01mpinecone\u001b[39;00m\n\u001b[1;32m      3\u001b[0m \u001b[38;5;28;01mfrom\u001b[39;00m\u001b[38;5;250m \u001b[39m\u001b[38;5;21;01mlangchain_community\u001b[39;00m\u001b[38;5;21;01m.\u001b[39;00m\u001b[38;5;21;01mvectorstores\u001b[39;00m\u001b[38;5;250m \u001b[39m\u001b[38;5;28;01mimport\u001b[39;00m Pinecone \u001b[38;5;28;01mas\u001b[39;00m LangchainPinecone\n\u001b[1;32m      5\u001b[0m \u001b[38;5;28;01mtry\u001b[39;00m:\n\u001b[1;32m      6\u001b[0m     \u001b[38;5;66;03m# Initialize Pinecone\u001b[39;00m\n",
      "File \u001b[0;32m/media/rgukt/data/RAG/venv/lib/python3.10/site-packages/pinecone/__init__.py:5\u001b[0m\n\u001b[1;32m      1\u001b[0m \u001b[38;5;124;03m\"\"\"\u001b[39;00m\n\u001b[1;32m      2\u001b[0m \u001b[38;5;124;03m.. include:: ../README.md\u001b[39;00m\n\u001b[1;32m      3\u001b[0m \u001b[38;5;124;03m\"\"\"\u001b[39;00m\n\u001b[0;32m----> 5\u001b[0m \u001b[38;5;28;01mraise\u001b[39;00m \u001b[38;5;167;01mException\u001b[39;00m(\n\u001b[1;32m      6\u001b[0m     \u001b[38;5;124m\"\u001b[39m\u001b[38;5;124mThe official Pinecone python package has been renamed from `pinecone-client` to `pinecone`. Please remove `pinecone-client` from your project dependencies and add `pinecone` instead. See the README at https://github.com/pinecone-io/pinecone-python-client for more information on using the python SDK.\u001b[39m\u001b[38;5;124m\"\u001b[39m\n\u001b[1;32m      7\u001b[0m )\n",
      "\u001b[0;31mException\u001b[0m: The official Pinecone python package has been renamed from `pinecone-client` to `pinecone`. Please remove `pinecone-client` from your project dependencies and add `pinecone` instead. See the README at https://github.com/pinecone-io/pinecone-python-client for more information on using the python SDK."
     ]
    }
   ],
   "source": [
    "# Initialize Pinecone with Google's embeddings\n",
    "import pinecone\n",
    "from langchain_community.vectorstores import Pinecone as LangchainPinecone\n",
    "\n",
    "try:\n",
    "    # Initialize Pinecone\n",
    "    pinecone.init(api_key=os.getenv('PINECONE_API_KEY'), environment=\"us-east-1\")\n",
    "    index_name = \"langchain-demo\"\n",
    "    \n",
    "    # First, let's check the dimensionality of our embeddings\n",
    "    test_embedding = embeddings.embed_query(\"Test text\")\n",
    "    embedding_dim = len(test_embedding)\n",
    "    print(f\"✅ Embedding dimension: {embedding_dim}\")\n",
    "    \n",
    "    # Create the vector store using the index name directly\n",
    "    vector_store = LangchainPinecone.from_existing_index(\n",
    "        index_name=index_name,\n",
    "        embedding=embeddings,\n",
    "        namespace=\"gemini_embeddings\"\n",
    "    )\n",
    "    \n",
    "    # Add documents to the store\n",
    "    vector_store.add_documents(documents)\n",
    "    print(\"✅ Documents added to Pinecone vector store!\")\n",
    "    \n",
    "    # Test search functionality\n",
    "    query = \"What is machine learning?\"\n",
    "    print(\"\\nSearching for:\", query)\n",
    "    results = vector_store.similarity_search(\n",
    "        query=query,\n",
    "        k=2,\n",
    "        namespace=\"gemini_embeddings\"\n",
    "    )\n",
    "    \n",
    "    print(\"\\nResults:\")\n",
    "    for i, doc in enumerate(results, 1):\n",
    "        print(f\"\\n{i}. Content: {doc.page_content}\")\n",
    "        print(f\"   Metadata: {doc.metadata}\")\n",
    "    \n",
    "except Exception as e:\n",
    "    print(f\"❌ Error: {str(e)}\")\n",
    "    print(\"\\nTroubleshooting steps:\")\n",
    "    print(\"1. Make sure you've created an index named 'langchain-demo' in Pinecone console\")\n",
    "    print(\"2. Index dimension should be 3072 (matching Gemini embeddings)\")\n",
    "    print(\"3. Make sure your Pinecone API key is correct in .env file\")"
   ]
  },
  {
   "cell_type": "markdown",
   "id": "57a82e86",
   "metadata": {},
   "source": [
    "### Testing Google Generative AI Embeddings\n",
    "\n",
    "Let's test the embeddings directly to understand how they work:"
   ]
  },
  {
   "cell_type": "code",
   "execution_count": null,
   "id": "ca5fe032",
   "metadata": {},
   "outputs": [],
   "source": [
    "# Test Google's embedding model directly\n",
    "test_texts = [\n",
    "    \"Machine learning is amazing\",\n",
    "    \"Python programming is fun\",\n",
    "    \"AI technology is advancing rapidly\"\n",
    "]\n",
    "\n",
    "# Get embeddings for each text\n",
    "try:\n",
    "    # Single query embedding\n",
    "    single_embedding = embeddings.embed_query(test_texts[0])\n",
    "    print(f\"Single embedding dimension: {len(single_embedding)}\")\n",
    "    \n",
    "    # Multiple document embeddings\n",
    "    doc_embeddings = embeddings.embed_documents(test_texts)\n",
    "    print(f\"\\nNumber of document embeddings: {len(doc_embeddings)}\")\n",
    "    print(f\"Each document embedding dimension: {len(doc_embeddings[0])}\")\n",
    "    \n",
    "    print(\"\\n✅ Embeddings generated successfully!\")\n",
    "    \n",
    "except Exception as e:\n",
    "    print(f\"❌ Error generating embeddings: {str(e)}\")"
   ]
  },
  {
   "cell_type": "markdown",
   "id": "47b4010e",
   "metadata": {},
   "source": [
    "## 3. Milvus Vector Store\n",
    "\n",
    "Milvus is an open-source vector database that can be self-hosted or used via Zilliz Cloud. For this example, we'll use the Python client to connect to a local Milvus instance."
   ]
  },
  {
   "cell_type": "code",
   "execution_count": 12,
   "id": "22a7de8e",
   "metadata": {},
   "outputs": [
    {
     "name": "stderr",
     "output_type": "stream",
     "text": [
      "Failed to create new connection using: ed2b3e4ea533416e908aff92ba76fb14\n"
     ]
    },
    {
     "name": "stdout",
     "output_type": "stream",
     "text": [
      "Error initializing Milvus: <MilvusException: (code=2, message=Fail connecting to server on localhost:19530, illegal connection params or server unavailable)>\n",
      "\n",
      "Make sure you have Milvus running locally or update connection details for cloud deployment\n"
     ]
    }
   ],
   "source": [
    "# Initialize Milvus\n",
    "from langchain_community.vectorstores import Milvus\n",
    "\n",
    "try:\n",
    "    milvus_store = Milvus.from_documents(\n",
    "        documents=documents,\n",
    "        embedding=embeddings,\n",
    "        connection_args={\"host\": \"localhost\", \"port\": \"19530\"},\n",
    "        collection_name=\"langchain_demo\"\n",
    "    )\n",
    "    print(\"Milvus vector store created successfully! ✅\")\n",
    "\n",
    "except Exception as e:\n",
    "    print(f\"Error initializing Milvus: {str(e)}\")\n",
    "    print(\"\\nMake sure you have Milvus running locally or update connection details for cloud deployment\")"
   ]
  },
  {
   "cell_type": "markdown",
   "id": "f6763549",
   "metadata": {},
   "source": [
    "## 4. Weaviate Vector Store\n",
    "\n",
    "Weaviate is an open-source vector search engine that can be self-hosted or used via Weaviate Cloud Services."
   ]
  },
  {
   "cell_type": "code",
   "execution_count": 13,
   "id": "1b8d71e6",
   "metadata": {},
   "outputs": [
    {
     "name": "stdout",
     "output_type": "stream",
     "text": [
      "Error initializing Weaviate: Client.__init__() got an unexpected keyword argument 'url'\n",
      "\n",
      "Make sure you have Weaviate running locally or update connection details for cloud deployment\n"
     ]
    }
   ],
   "source": [
    "# Initialize Weaviate\n",
    "from langchain.vectorstores import Weaviate\n",
    "import weaviate\n",
    "\n",
    "try:\n",
    "    client = weaviate.Client(\n",
    "        url=\"http://localhost:8080\",  # Update with your Weaviate instance URL\n",
    "    )\n",
    "    \n",
    "    weaviate_store = Weaviate.from_documents(\n",
    "        documents=documents,\n",
    "        embedding=embeddings,\n",
    "        client=client,\n",
    "        by_text=False\n",
    "    )\n",
    "    print(\"Weaviate vector store created successfully! ✅\")\n",
    "    \n",
    "except Exception as e:\n",
    "    print(f\"Error initializing Weaviate: {str(e)}\")\n",
    "    print(\"\\nMake sure you have Weaviate running locally or update connection details for cloud deployment\")"
   ]
  },
  {
   "cell_type": "markdown",
   "id": "75cdfd0b",
   "metadata": {},
   "source": [
    "## Vector Store Comparison\n",
    "\n",
    "Here's a quick comparison of the vector stores we've looked at:\n",
    "\n",
    "1. **FAISS**\n",
    "   - ✅ Local, in-memory storage\n",
    "   - ✅ Great for quick prototyping\n",
    "   - ✅ No external dependencies\n",
    "   - ❌ Not suitable for large-scale production\n",
    "\n",
    "2. **Pinecone**\n",
    "   - ✅ Fully managed cloud service\n",
    "   - ✅ Highly scalable\n",
    "   - ✅ Great for production\n",
    "   - ❌ Paid service\n",
    "\n",
    "3. **Milvus**\n",
    "   - ✅ Open source\n",
    "   - ✅ Can be self-hosted or cloud\n",
    "   - ✅ Highly scalable\n",
    "   - ❌ More complex setup\n",
    "\n",
    "4. **Weaviate**\n",
    "   - ✅ Advanced features (semantic search)\n",
    "   - ✅ GraphQL interface\n",
    "   - ✅ Can be self-hosted or cloud\n",
    "   - ❌ More resource intensive"
   ]
  },
  {
   "cell_type": "markdown",
   "id": "710a1d04",
   "metadata": {},
   "source": [
    "### Notes — Pinecone removed for this demo\n",
    "\n",
    "- The Pinecone section has been disabled because the notebook experienced package/version conflicts during setup.\n",
    "- If you want to re-enable Pinecone later:\n",
    "  1. Create an index named `langchain-demo` in the Pinecone Console with dimension `3072` and metric `cosine`.\n",
    "  2. Add `PINECONE_API_KEY` to your `.env` file.\n",
    "  3. Re-insert the Pinecone cell or use LangChain's Pinecone helper methods.\n",
    "\n",
    "Troubleshooting:\n",
    "- Milvus: make sure Milvus is running locally on port `19530` or change `connection_args` to your Milvus host/port.\n",
    "- Weaviate: ensure `weaviate-client` is the expected version; the client initializer may accept `url=` or `base_url=` depending on version. Update `weaviate.Client(base_url=\"http://localhost:8080\")` if needed.\n",
    "\n",
    "If you want, I can re-enable Pinecone in the notebook with a pinned, working client version and exact code — or we can keep it disabled and proceed with FAISS/Milvus/Weaviate."
   ]
  }
 ],
 "metadata": {
  "kernelspec": {
   "display_name": "venv",
   "language": "python",
   "name": "python3"
  },
  "language_info": {
   "codemirror_mode": {
    "name": "ipython",
    "version": 3
   },
   "file_extension": ".py",
   "mimetype": "text/x-python",
   "name": "python",
   "nbconvert_exporter": "python",
   "pygments_lexer": "ipython3",
   "version": "3.10.12"
  }
 },
 "nbformat": 4,
 "nbformat_minor": 5
}
